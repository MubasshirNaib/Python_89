{
  "nbformat": 4,
  "nbformat_minor": 0,
  "metadata": {
    "colab": {
      "provenance": [],
      "authorship_tag": "ABX9TyNcWQ/2lXFoKA24jIZirhMy",
      "include_colab_link": true
    },
    "kernelspec": {
      "name": "python3",
      "display_name": "Python 3"
    },
    "language_info": {
      "name": "python"
    }
  },
  "cells": [
    {
      "cell_type": "markdown",
      "metadata": {
        "id": "view-in-github",
        "colab_type": "text"
      },
      "source": [
        "<a href=\"https://colab.research.google.com/github/MubasshirNaib/Python_89/blob/main/ailab3.ipynb\" target=\"_parent\"><img src=\"https://colab.research.google.com/assets/colab-badge.svg\" alt=\"Open In Colab\"/></a>"
      ]
    },
    {
      "cell_type": "code",
      "execution_count": null,
      "metadata": {
        "colab": {
          "base_uri": "https://localhost:8080/"
        },
        "id": "XuB46fVTqq-m",
        "outputId": "84a6408d-a87e-421b-de7b-c43b7dfdb556"
      },
      "outputs": [
        {
          "output_type": "stream",
          "name": "stdout",
          "text": [
            "True\n"
          ]
        },
        {
          "output_type": "execute_result",
          "data": {
            "text/plain": [
              "False"
            ]
          },
          "metadata": {},
          "execution_count": 6
        }
      ],
      "source": [
        "ar=[2,3,4,5,5]\n",
        "\n",
        "3 in ar\n",
        "3 not in ar # membership operator"
      ]
    },
    {
      "cell_type": "code",
      "source": [
        "a=3\n",
        "b=5\n",
        "a is b  # identi operator\n",
        "a is not b"
      ],
      "metadata": {
        "colab": {
          "base_uri": "https://localhost:8080/"
        },
        "id": "yGSisMu3tCBV",
        "outputId": "299bc552-b889-4d54-9783-26cd6284c9f5"
      },
      "execution_count": null,
      "outputs": [
        {
          "output_type": "execute_result",
          "data": {
            "text/plain": [
              "True"
            ]
          },
          "metadata": {},
          "execution_count": 8
        }
      ]
    },
    {
      "cell_type": "code",
      "source": [
        "num_list=[1,2,3,4,5] # list\n",
        "name_list=['mango','banana','orange']\n",
        "hybrid=[1,2,3,'mango','banana','orange']\n",
        "\n",
        "hybrid"
      ],
      "metadata": {
        "colab": {
          "base_uri": "https://localhost:8080/"
        },
        "id": "jRGjQ7vJtU58",
        "outputId": "8cccf731-486f-4e4a-c220-5e8aae2f0899"
      },
      "execution_count": null,
      "outputs": [
        {
          "output_type": "execute_result",
          "data": {
            "text/plain": [
              "[1, 2, 3, 'mango', 'banana', 'orange']"
            ]
          },
          "metadata": {},
          "execution_count": 12
        }
      ]
    },
    {
      "cell_type": "code",
      "source": [
        "#list concatenation\n",
        "new_list=num_list+name_list\n",
        "new_list\n",
        "new_list[5]\n",
        "new_list[-3]"
      ],
      "metadata": {
        "colab": {
          "base_uri": "https://localhost:8080/",
          "height": 35
        },
        "id": "WsTYzUT7t_ht",
        "outputId": "867cc013-9a2c-4852-cc80-6128283446d9"
      },
      "execution_count": null,
      "outputs": [
        {
          "output_type": "execute_result",
          "data": {
            "text/plain": [
              "'mango'"
            ],
            "application/vnd.google.colaboratory.intrinsic+json": {
              "type": "string"
            }
          },
          "metadata": {},
          "execution_count": 15
        }
      ]
    },
    {
      "cell_type": "code",
      "source": [
        "new_list.append(\"jackfruit\")\n",
        "new_list"
      ],
      "metadata": {
        "colab": {
          "base_uri": "https://localhost:8080/"
        },
        "id": "QrTXRJy9vG09",
        "outputId": "697cb711-31e7-42f1-9a68-141f80089775"
      },
      "execution_count": null,
      "outputs": [
        {
          "output_type": "execute_result",
          "data": {
            "text/plain": [
              "[1, 2, 3, 4, 5, 'mango', 'banana', 'orange', 'jackfruit']"
            ]
          },
          "metadata": {},
          "execution_count": 16
        }
      ]
    },
    {
      "cell_type": "code",
      "source": [
        "new_list.insert(5,\"Pineapple\")\n",
        "new_list.remove(\"Pineapple\")\n",
        "\n"
      ],
      "metadata": {
        "id": "9FO0DHuWvVYr"
      },
      "execution_count": null,
      "outputs": []
    },
    {
      "cell_type": "code",
      "source": [
        "new_list.pop()"
      ],
      "metadata": {
        "colab": {
          "base_uri": "https://localhost:8080/",
          "height": 35
        },
        "id": "WcfSKbcawHka",
        "outputId": "a7a459db-59af-48f1-8a54-811a8895a34f"
      },
      "execution_count": null,
      "outputs": [
        {
          "output_type": "execute_result",
          "data": {
            "text/plain": [
              "'jackfruit'"
            ],
            "application/vnd.google.colaboratory.intrinsic+json": {
              "type": "string"
            }
          },
          "metadata": {},
          "execution_count": 25
        }
      ]
    },
    {
      "cell_type": "code",
      "source": [
        "new_list.pop(5)\n",
        "new_list"
      ],
      "metadata": {
        "colab": {
          "base_uri": "https://localhost:8080/"
        },
        "id": "MXs1E0RiwSjN",
        "outputId": "fae280cb-d0b4-4729-94f5-5609bc758e9a"
      },
      "execution_count": null,
      "outputs": [
        {
          "output_type": "execute_result",
          "data": {
            "text/plain": [
              "[1, 2, 3, 4, 5, 'mango', 'banana', 'orange']"
            ]
          },
          "metadata": {},
          "execution_count": 29
        }
      ]
    },
    {
      "cell_type": "code",
      "source": [
        "new_list[5]=\"watermalon\""
      ],
      "metadata": {
        "id": "1JffhRwZwlM9"
      },
      "execution_count": null,
      "outputs": []
    },
    {
      "cell_type": "code",
      "source": [
        "new_list"
      ],
      "metadata": {
        "colab": {
          "base_uri": "https://localhost:8080/"
        },
        "id": "v7N720Zvw0gD",
        "outputId": "06223b85-df12-4968-eb86-cfaab2b75c91"
      },
      "execution_count": null,
      "outputs": [
        {
          "output_type": "execute_result",
          "data": {
            "text/plain": [
              "[1, 2, 3, 4, 5, 'watermalon', 'banana', 'orange']"
            ]
          },
          "metadata": {},
          "execution_count": 31
        }
      ]
    },
    {
      "cell_type": "code",
      "source": [
        "del new_list"
      ],
      "metadata": {
        "id": "ghl8badbw81G"
      },
      "execution_count": null,
      "outputs": []
    },
    {
      "cell_type": "code",
      "source": [
        "new_list =[1, 2, 3, 4, 5, 'mango', 'banana', 'orange']"
      ],
      "metadata": {
        "id": "bzUTk4f9xBSy"
      },
      "execution_count": null,
      "outputs": []
    },
    {
      "cell_type": "code",
      "source": [
        "new_list.clear()"
      ],
      "metadata": {
        "id": "unKm5_4XxQUZ"
      },
      "execution_count": null,
      "outputs": []
    },
    {
      "cell_type": "code",
      "source": [
        "new_list\n",
        "hybrid"
      ],
      "metadata": {
        "colab": {
          "base_uri": "https://localhost:8080/"
        },
        "id": "tKdVnB9vxT7a",
        "outputId": "648e418d-c0d5-473a-d41f-21b6b98c12da"
      },
      "execution_count": null,
      "outputs": [
        {
          "output_type": "execute_result",
          "data": {
            "text/plain": [
              "[1, 2, 3, 'mango', 'banana', 'orange']"
            ]
          },
          "metadata": {},
          "execution_count": 38
        }
      ]
    },
    {
      "cell_type": "code",
      "source": [
        "#list slice\n",
        "hybrid[2:5]\n",
        "hybrid[2:]\n",
        "hybrid[4: len(hybrid)]\n",
        "hybrid[:3]\n",
        "hybrid[-4:-1]\n",
        "hybrid[: :-1] # reverse\n",
        "hybrid[-1:-4:-1]"
      ],
      "metadata": {
        "colab": {
          "base_uri": "https://localhost:8080/"
        },
        "id": "9oxs8hqFxo31",
        "outputId": "c5c50efb-aff4-415a-f326-f7368be55398"
      },
      "execution_count": null,
      "outputs": [
        {
          "output_type": "execute_result",
          "data": {
            "text/plain": [
              "['orange', 'banana', 'mango']"
            ]
          },
          "metadata": {},
          "execution_count": 47
        }
      ]
    },
    {
      "cell_type": "code",
      "source": [
        "import numpy\n",
        "max(num_list)\n",
        "min(num_list)\n",
        "numpy.mean(num_list)\n",
        "import numpy as naib\n",
        "naib.mean(num_list)"
      ],
      "metadata": {
        "colab": {
          "base_uri": "https://localhost:8080/"
        },
        "id": "uPvBVrNX0V7V",
        "outputId": "36184b97-f7a0-4873-e189-b5ac42843906"
      },
      "execution_count": null,
      "outputs": [
        {
          "output_type": "execute_result",
          "data": {
            "text/plain": [
              "3.0"
            ]
          },
          "metadata": {},
          "execution_count": 56
        }
      ]
    },
    {
      "cell_type": "code",
      "source": [
        "num=[2,1,3,5,4]\n",
        "num.sort()\n",
        "num.sort(reverse=True)\n",
        "print(num)"
      ],
      "metadata": {
        "colab": {
          "base_uri": "https://localhost:8080/"
        },
        "id": "bjZGsb4I0_38",
        "outputId": "2241ce63-9b73-4dd5-b130-46068c2ae387"
      },
      "execution_count": null,
      "outputs": [
        {
          "output_type": "stream",
          "name": "stdout",
          "text": [
            "[5, 4, 3, 2, 1]\n"
          ]
        }
      ]
    },
    {
      "cell_type": "code",
      "source": [
        "num2 = num\n",
        "num.append(0)\n",
        "print(num2)"
      ],
      "metadata": {
        "colab": {
          "base_uri": "https://localhost:8080/"
        },
        "id": "oPDQl1Xg17T8",
        "outputId": "1e4a52bd-7172-4cf8-a0bb-effb98ff6aca"
      },
      "execution_count": null,
      "outputs": [
        {
          "output_type": "stream",
          "name": "stdout",
          "text": [
            "[5, 4, 3, 2, 1, 0]\n"
          ]
        }
      ]
    },
    {
      "cell_type": "code",
      "source": [
        "num2=num.copy()\n",
        "num.append(65)\n",
        "print(num2)"
      ],
      "metadata": {
        "colab": {
          "base_uri": "https://localhost:8080/"
        },
        "id": "xa1J-A5e2j0V",
        "outputId": "cc4b20c4-f7d7-4474-c1e3-d4798118dc52"
      },
      "execution_count": null,
      "outputs": [
        {
          "output_type": "stream",
          "name": "stdout",
          "text": [
            "[5, 4, 3, 2, 1, 0]\n"
          ]
        }
      ]
    },
    {
      "cell_type": "code",
      "source": [
        "a=[1,2,3,4,5]\n",
        "b=['a','b','c','d','e']\n",
        "#a.sort(reverse=True)\n",
        "aa=a[::-1].copy()\n",
        "#b.sort(reverse=True)\n",
        "for i,j in zip(a[::-1],b[::-1]):\n",
        "  print(i,j)"
      ],
      "metadata": {
        "colab": {
          "base_uri": "https://localhost:8080/"
        },
        "id": "ccSwDTFZ3E9-",
        "outputId": "d8f5b9a5-6e35-424c-e12c-2c8191b7c259"
      },
      "execution_count": null,
      "outputs": [
        {
          "output_type": "stream",
          "name": "stdout",
          "text": [
            "5 e\n",
            "4 d\n",
            "3 c\n",
            "2 b\n",
            "1 a\n"
          ]
        }
      ]
    }
  ]
}