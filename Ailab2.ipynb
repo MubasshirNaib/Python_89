{
  "nbformat": 4,
  "nbformat_minor": 0,
  "metadata": {
    "colab": {
      "provenance": [],
      "authorship_tag": "ABX9TyMGaJYPxwCU0IVAsrP9HVDA",
      "include_colab_link": true
    },
    "kernelspec": {
      "name": "python3",
      "display_name": "Python 3"
    },
    "language_info": {
      "name": "python"
    }
  },
  "cells": [
    {
      "cell_type": "markdown",
      "metadata": {
        "id": "view-in-github",
        "colab_type": "text"
      },
      "source": [
        "<a href=\"https://colab.research.google.com/github/MubasshirNaib/Python_89/blob/main/Ailab2.ipynb\" target=\"_parent\"><img src=\"https://colab.research.google.com/assets/colab-badge.svg\" alt=\"Open In Colab\"/></a>"
      ]
    },
    {
      "cell_type": "code",
      "source": [
        "x=int(input(\"Enter the first Number: \"))\n",
        "y=int(input(\"Enter the second Number: \"))\n",
        "z=int(input(\"Enter the third Number: \"))\n",
        "if x<=y and x<=z:\n",
        "  p=x\n",
        "elif y<=z and y<=x:\n",
        "  p=y\n",
        "else:\n",
        "  p=z\n",
        "\n",
        "if x>=y and x>=z:\n",
        "  q=x\n",
        "elif y>=z and y>=x:\n",
        "  q=y\n",
        "else:\n",
        "  q=z\n",
        "if p==q:\n",
        "  print(\"Output= Youngest: {} {} {} Oldest {} {} {}\".format(p,q,p,q,q,p))\n",
        "elif (p==x and p==y) or (p==x and p==z) or (p== y and p==z):\n",
        "  print(\"Output= Youngest: {} {}  Oldest {} \".format(p,p,q))\n",
        "elif (q==x and q==y) or (q==x and q==z) or (q== y and q==z):\n",
        "  print(\"Output= Youngest: {}  Oldest {} {} \".format(p,q,q))\n",
        "else:\n",
        "  print(\"Output= Youngest: {} Oldest {}\".format(p,q))\n",
        "\n",
        "\n"
      ],
      "metadata": {
        "colab": {
          "base_uri": "https://localhost:8080/"
        },
        "id": "8EBT1DVb_nU0",
        "outputId": "7b115163-fe16-4ab2-c7aa-8b023ea3e1b8"
      },
      "execution_count": null,
      "outputs": [
        {
          "output_type": "stream",
          "name": "stdout",
          "text": [
            "Enter the first Number: 10\n",
            "Enter the second Number: 20\n",
            "Enter the third Number: 10\n",
            "Output= Youngest: 10 10  Oldest 20 \n"
          ]
        }
      ]
    },
    {
      "cell_type": "code",
      "source": [
        "x=int(input(\"Input a number:\"))\n",
        "for i in range(1,11,1):\n",
        "  k=i*x\n",
        "  print(\"{} x {} = {}\".format(x,i,k))\n"
      ],
      "metadata": {
        "colab": {
          "base_uri": "https://localhost:8080/"
        },
        "id": "Y0biM4-sm_Ds",
        "outputId": "4de96e1b-5476-4ec1-ab5f-1b6849c89800"
      },
      "execution_count": null,
      "outputs": [
        {
          "output_type": "stream",
          "name": "stdout",
          "text": [
            "Input a number:6\n",
            "6 x 1 = 6\n",
            "6 x 2 = 12\n",
            "6 x 3 = 18\n",
            "6 x 4 = 24\n",
            "6 x 5 = 30\n",
            "6 x 6 = 36\n",
            "6 x 7 = 42\n",
            "6 x 8 = 48\n",
            "6 x 9 = 54\n",
            "6 x 10 = 60\n"
          ]
        }
      ]
    },
    {
      "cell_type": "code",
      "source": [],
      "metadata": {
        "id": "FuF5OHBkERV3"
      },
      "execution_count": null,
      "outputs": []
    },
    {
      "cell_type": "code",
      "source": [
        "x,sum= 5,0\n",
        "\n",
        "while x>0:\n",
        "  sum+=x\n",
        "  x-=1\n",
        "  print(sum)"
      ],
      "metadata": {
        "colab": {
          "base_uri": "https://localhost:8080/"
        },
        "id": "rJfUsdt7ESKf",
        "outputId": "d36c01ba-aa8d-4064-ce06-c7592eb5900a"
      },
      "execution_count": null,
      "outputs": [
        {
          "output_type": "stream",
          "name": "stdout",
          "text": [
            "5\n",
            "9\n",
            "12\n",
            "14\n",
            "15\n"
          ]
        }
      ]
    },
    {
      "cell_type": "code",
      "source": [
        "for i in range(20,-1,-2):\n",
        "  print(i)"
      ],
      "metadata": {
        "colab": {
          "base_uri": "https://localhost:8080/"
        },
        "id": "p1froD1LE4Eh",
        "outputId": "a5090d1b-12de-47bd-a3e9-d709df247324"
      },
      "execution_count": null,
      "outputs": [
        {
          "output_type": "stream",
          "name": "stdout",
          "text": [
            "20\n",
            "18\n",
            "16\n",
            "14\n",
            "12\n",
            "10\n",
            "8\n",
            "6\n",
            "4\n",
            "2\n",
            "0\n"
          ]
        }
      ]
    },
    {
      "cell_type": "code",
      "source": [
        "basket = ['banana','apple','mango']\n",
        "for fruit in basket:\n",
        "  print('Current Fruit:',fruit)\n",
        "for index in range(len(basket)):\n",
        "  print(index,\":\")\n",
        "  print(\"Curent Fruit:\",basket[index])\n",
        "print()\n",
        "for index in range(len(basket)-1,-1,-1):\n",
        "  print(index,\":\")\n",
        "  print(\"Curent Fruit:\",basket[index])"
      ],
      "metadata": {
        "colab": {
          "base_uri": "https://localhost:8080/"
        },
        "id": "k43i8OTTFqXH",
        "outputId": "985eec57-0461-4974-cd50-c7c8951dc659"
      },
      "execution_count": null,
      "outputs": [
        {
          "output_type": "stream",
          "name": "stdout",
          "text": [
            "Current Fruit: banana\n",
            "Current Fruit: apple\n",
            "Current Fruit: mango\n",
            "0 :\n",
            "Curent Fruit: banana\n",
            "1 :\n",
            "Curent Fruit: apple\n",
            "2 :\n",
            "Curent Fruit: mango\n",
            "\n",
            "2 :\n",
            "Curent Fruit: mango\n",
            "1 :\n",
            "Curent Fruit: apple\n",
            "0 :\n",
            "Curent Fruit: banana\n"
          ]
        }
      ]
    },
    {
      "cell_type": "code",
      "source": [
        "for i in \"Mubasshir\":\n",
        "  print(\"Current Letter: \" + i+ \" \",end=\"\")\n",
        "print()\n",
        "for i in 'Mubasshir':\n",
        "  print(\"Current Letter: \" + i)"
      ],
      "metadata": {
        "colab": {
          "base_uri": "https://localhost:8080/"
        },
        "id": "p4RDtezBG0Ec",
        "outputId": "332fcb5f-72dd-422b-e4cb-ea7543b09c28"
      },
      "execution_count": null,
      "outputs": [
        {
          "output_type": "stream",
          "name": "stdout",
          "text": [
            "Current Letter: M Current Letter: u Current Letter: b Current Letter: a Current Letter: s Current Letter: s Current Letter: h Current Letter: i Current Letter: r \n",
            "Current Letter: M\n",
            "Current Letter: u\n",
            "Current Letter: b\n",
            "Current Letter: a\n",
            "Current Letter: s\n",
            "Current Letter: s\n",
            "Current Letter: h\n",
            "Current Letter: i\n",
            "Current Letter: r\n"
          ]
        }
      ]
    },
    {
      "cell_type": "code",
      "source": [
        "print(\"Naib\")"
      ],
      "metadata": {
        "id": "mo2Slgg5XQRZ",
        "outputId": "d6a3dc7f-2bee-4951-c29f-c6dc2d485af5",
        "colab": {
          "base_uri": "https://localhost:8080/"
        }
      },
      "execution_count": null,
      "outputs": [
        {
          "output_type": "stream",
          "name": "stdout",
          "text": [
            "Naib\n"
          ]
        }
      ]
    },
    {
      "cell_type": "code",
      "source": [
        "fruits=['banana','apple','mango','coconuts',\"pineapple\"]\n",
        "for fruit in fruits:\n",
        "  print(\"Current fruit :\",fruit)\n",
        "  for f in fruit:\n",
        "    print(f)"
      ],
      "metadata": {
        "colab": {
          "base_uri": "https://localhost:8080/"
        },
        "id": "uF0sis0GHsz1",
        "outputId": "0ece54aa-bf38-470d-bc01-4ba5d048bc71"
      },
      "execution_count": null,
      "outputs": [
        {
          "output_type": "stream",
          "name": "stdout",
          "text": [
            "Current fruit : banana\n",
            "b\n",
            "a\n",
            "n\n",
            "a\n",
            "n\n",
            "a\n",
            "Current fruit : apple\n",
            "a\n",
            "p\n",
            "p\n",
            "l\n",
            "e\n",
            "Current fruit : mango\n",
            "m\n",
            "a\n",
            "n\n",
            "g\n",
            "o\n",
            "Current fruit : coconuts\n",
            "c\n",
            "o\n",
            "c\n",
            "o\n",
            "n\n",
            "u\n",
            "t\n",
            "s\n",
            "Current fruit : pineapple\n",
            "p\n",
            "i\n",
            "n\n",
            "e\n",
            "a\n",
            "p\n",
            "p\n",
            "l\n",
            "e\n"
          ]
        }
      ]
    },
    {
      "cell_type": "code",
      "source": [
        "fruits=['banana','apple','mango','coconuts',\"pineapple\"]\n",
        "for fruit in range(len(fruits)):\n",
        "  if fruit&1:\n",
        "   print(\"Current fruit :\",fruits[fruit])\n",
        "   k=fruits[fruit]\n",
        "   for f in range(len(k)):\n",
        "    if (f%2==0):\n",
        "     print(k[f])"
      ],
      "metadata": {
        "colab": {
          "base_uri": "https://localhost:8080/"
        },
        "id": "vkLZjmBGIkZX",
        "outputId": "5765620c-26fb-481c-d8f1-db8b45fc3911"
      },
      "execution_count": null,
      "outputs": [
        {
          "output_type": "stream",
          "name": "stdout",
          "text": [
            "Current fruit : apple\n",
            "a\n",
            "p\n",
            "e\n",
            "Current fruit : coconuts\n",
            "c\n",
            "c\n",
            "n\n",
            "t\n"
          ]
        }
      ]
    },
    {
      "cell_type": "code",
      "source": [
        "for i in range(1904001,1904133,1):\n",
        "  x=str(i)\n",
        "  print(\"Batch 19 Department: 04 Id :\"+x[4:])"
      ],
      "metadata": {
        "colab": {
          "base_uri": "https://localhost:8080/"
        },
        "id": "h3tRDW23Mqb5",
        "outputId": "f03d4317-36b4-4251-b572-071d2d3124ee"
      },
      "execution_count": null,
      "outputs": [
        {
          "output_type": "stream",
          "name": "stdout",
          "text": [
            "Batch 19 Department: 04 Id :001\n",
            "Batch 19 Department: 04 Id :002\n",
            "Batch 19 Department: 04 Id :003\n",
            "Batch 19 Department: 04 Id :004\n",
            "Batch 19 Department: 04 Id :005\n",
            "Batch 19 Department: 04 Id :006\n",
            "Batch 19 Department: 04 Id :007\n",
            "Batch 19 Department: 04 Id :008\n",
            "Batch 19 Department: 04 Id :009\n",
            "Batch 19 Department: 04 Id :010\n",
            "Batch 19 Department: 04 Id :011\n",
            "Batch 19 Department: 04 Id :012\n",
            "Batch 19 Department: 04 Id :013\n",
            "Batch 19 Department: 04 Id :014\n",
            "Batch 19 Department: 04 Id :015\n",
            "Batch 19 Department: 04 Id :016\n",
            "Batch 19 Department: 04 Id :017\n",
            "Batch 19 Department: 04 Id :018\n",
            "Batch 19 Department: 04 Id :019\n",
            "Batch 19 Department: 04 Id :020\n",
            "Batch 19 Department: 04 Id :021\n",
            "Batch 19 Department: 04 Id :022\n",
            "Batch 19 Department: 04 Id :023\n",
            "Batch 19 Department: 04 Id :024\n",
            "Batch 19 Department: 04 Id :025\n",
            "Batch 19 Department: 04 Id :026\n",
            "Batch 19 Department: 04 Id :027\n",
            "Batch 19 Department: 04 Id :028\n",
            "Batch 19 Department: 04 Id :029\n",
            "Batch 19 Department: 04 Id :030\n",
            "Batch 19 Department: 04 Id :031\n",
            "Batch 19 Department: 04 Id :032\n",
            "Batch 19 Department: 04 Id :033\n",
            "Batch 19 Department: 04 Id :034\n",
            "Batch 19 Department: 04 Id :035\n",
            "Batch 19 Department: 04 Id :036\n",
            "Batch 19 Department: 04 Id :037\n",
            "Batch 19 Department: 04 Id :038\n",
            "Batch 19 Department: 04 Id :039\n",
            "Batch 19 Department: 04 Id :040\n",
            "Batch 19 Department: 04 Id :041\n",
            "Batch 19 Department: 04 Id :042\n",
            "Batch 19 Department: 04 Id :043\n",
            "Batch 19 Department: 04 Id :044\n",
            "Batch 19 Department: 04 Id :045\n",
            "Batch 19 Department: 04 Id :046\n",
            "Batch 19 Department: 04 Id :047\n",
            "Batch 19 Department: 04 Id :048\n",
            "Batch 19 Department: 04 Id :049\n",
            "Batch 19 Department: 04 Id :050\n",
            "Batch 19 Department: 04 Id :051\n",
            "Batch 19 Department: 04 Id :052\n",
            "Batch 19 Department: 04 Id :053\n",
            "Batch 19 Department: 04 Id :054\n",
            "Batch 19 Department: 04 Id :055\n",
            "Batch 19 Department: 04 Id :056\n",
            "Batch 19 Department: 04 Id :057\n",
            "Batch 19 Department: 04 Id :058\n",
            "Batch 19 Department: 04 Id :059\n",
            "Batch 19 Department: 04 Id :060\n",
            "Batch 19 Department: 04 Id :061\n",
            "Batch 19 Department: 04 Id :062\n",
            "Batch 19 Department: 04 Id :063\n",
            "Batch 19 Department: 04 Id :064\n",
            "Batch 19 Department: 04 Id :065\n",
            "Batch 19 Department: 04 Id :066\n",
            "Batch 19 Department: 04 Id :067\n",
            "Batch 19 Department: 04 Id :068\n",
            "Batch 19 Department: 04 Id :069\n",
            "Batch 19 Department: 04 Id :070\n",
            "Batch 19 Department: 04 Id :071\n",
            "Batch 19 Department: 04 Id :072\n",
            "Batch 19 Department: 04 Id :073\n",
            "Batch 19 Department: 04 Id :074\n",
            "Batch 19 Department: 04 Id :075\n",
            "Batch 19 Department: 04 Id :076\n",
            "Batch 19 Department: 04 Id :077\n",
            "Batch 19 Department: 04 Id :078\n",
            "Batch 19 Department: 04 Id :079\n",
            "Batch 19 Department: 04 Id :080\n",
            "Batch 19 Department: 04 Id :081\n",
            "Batch 19 Department: 04 Id :082\n",
            "Batch 19 Department: 04 Id :083\n",
            "Batch 19 Department: 04 Id :084\n",
            "Batch 19 Department: 04 Id :085\n",
            "Batch 19 Department: 04 Id :086\n",
            "Batch 19 Department: 04 Id :087\n",
            "Batch 19 Department: 04 Id :088\n",
            "Batch 19 Department: 04 Id :089\n",
            "Batch 19 Department: 04 Id :090\n",
            "Batch 19 Department: 04 Id :091\n",
            "Batch 19 Department: 04 Id :092\n",
            "Batch 19 Department: 04 Id :093\n",
            "Batch 19 Department: 04 Id :094\n",
            "Batch 19 Department: 04 Id :095\n",
            "Batch 19 Department: 04 Id :096\n",
            "Batch 19 Department: 04 Id :097\n",
            "Batch 19 Department: 04 Id :098\n",
            "Batch 19 Department: 04 Id :099\n",
            "Batch 19 Department: 04 Id :100\n",
            "Batch 19 Department: 04 Id :101\n",
            "Batch 19 Department: 04 Id :102\n",
            "Batch 19 Department: 04 Id :103\n",
            "Batch 19 Department: 04 Id :104\n",
            "Batch 19 Department: 04 Id :105\n",
            "Batch 19 Department: 04 Id :106\n",
            "Batch 19 Department: 04 Id :107\n",
            "Batch 19 Department: 04 Id :108\n",
            "Batch 19 Department: 04 Id :109\n",
            "Batch 19 Department: 04 Id :110\n",
            "Batch 19 Department: 04 Id :111\n",
            "Batch 19 Department: 04 Id :112\n",
            "Batch 19 Department: 04 Id :113\n",
            "Batch 19 Department: 04 Id :114\n",
            "Batch 19 Department: 04 Id :115\n",
            "Batch 19 Department: 04 Id :116\n",
            "Batch 19 Department: 04 Id :117\n",
            "Batch 19 Department: 04 Id :118\n",
            "Batch 19 Department: 04 Id :119\n",
            "Batch 19 Department: 04 Id :120\n",
            "Batch 19 Department: 04 Id :121\n",
            "Batch 19 Department: 04 Id :122\n",
            "Batch 19 Department: 04 Id :123\n",
            "Batch 19 Department: 04 Id :124\n",
            "Batch 19 Department: 04 Id :125\n",
            "Batch 19 Department: 04 Id :126\n",
            "Batch 19 Department: 04 Id :127\n",
            "Batch 19 Department: 04 Id :128\n",
            "Batch 19 Department: 04 Id :129\n",
            "Batch 19 Department: 04 Id :130\n",
            "Batch 19 Department: 04 Id :131\n",
            "Batch 19 Department: 04 Id :132\n"
          ]
        }
      ]
    },
    {
      "cell_type": "code",
      "source": [
        "l=int(input(\"Low index: \"))\n",
        "r=int(input(\"High index: \"))\n",
        "r+=1\n",
        "for i in range(l,r,1):\n",
        "  if i==1 or i==0:\n",
        "    continue\n",
        "  q=1\n",
        "  for j in range(2,i,1):\n",
        "    if i%j == 0:\n",
        "      q=0\n",
        "  if q==1:\n",
        "    print(\"{} \".format(i))"
      ],
      "metadata": {
        "colab": {
          "base_uri": "https://localhost:8080/"
        },
        "id": "pzfAghv0Pkre",
        "outputId": "ef9b2004-7a09-467b-a112-2c3101db96b4"
      },
      "execution_count": null,
      "outputs": [
        {
          "output_type": "stream",
          "name": "stdout",
          "text": [
            "Low index: 0\n",
            "High index: 10\n",
            "2 \n",
            "3 \n",
            "5 \n",
            "7 \n"
          ]
        }
      ]
    }
  ]
}