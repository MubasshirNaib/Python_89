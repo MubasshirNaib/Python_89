{
  "nbformat": 4,
  "nbformat_minor": 0,
  "metadata": {
    "colab": {
      "provenance": [],
      "collapsed_sections": [
        "UbFuDIrjruLe",
        "7zsTncamDPDJ",
        "NXNG_WZNz2Dc"
      ],
      "authorship_tag": "ABX9TyPuwBixRXz628GU90/JyTt7",
      "include_colab_link": true
    },
    "kernelspec": {
      "name": "python3",
      "display_name": "Python 3"
    },
    "language_info": {
      "name": "python"
    }
  },
  "cells": [
    {
      "cell_type": "markdown",
      "metadata": {
        "id": "view-in-github",
        "colab_type": "text"
      },
      "source": [
        "<a href=\"https://colab.research.google.com/github/MubasshirNaib/Python_89/blob/main/1904089.ipynb\" target=\"_parent\"><img src=\"https://colab.research.google.com/assets/colab-badge.svg\" alt=\"Open In Colab\"/></a>"
      ]
    },
    {
      "cell_type": "markdown",
      "source": [
        "# **Conditional logic**\n",
        "\n",
        "**1.Check if the input number is even or odd.**"
      ],
      "metadata": {
        "id": "UbFuDIrjruLe"
      }
    },
    {
      "cell_type": "code",
      "source": [
        "x=int(input(\"Enter the Number:\"))\n",
        "if x&1 :\n",
        "  print(\"The Number is Odd.\")\n",
        "else :\n",
        "  print(\"The Number is Even.\")"
      ],
      "metadata": {
        "colab": {
          "base_uri": "https://localhost:8080/"
        },
        "id": "EhWbkMDdr9yD",
        "outputId": "3ec5dc29-5677-48ab-ff45-cf60f12e12a4"
      },
      "execution_count": null,
      "outputs": [
        {
          "output_type": "stream",
          "name": "stdout",
          "text": [
            "Enter the Number:5\n",
            "The Number is Odd.\n"
          ]
        }
      ]
    },
    {
      "cell_type": "markdown",
      "source": [
        "**2.Check if the input string 1st character is any vowel.**"
      ],
      "metadata": {
        "id": "ShJm00cjsd_j"
      }
    },
    {
      "cell_type": "code",
      "source": [
        "x=input(\"Enter the String:\")\n",
        "x=x[0]\n",
        "if x=='a'or x=='e'or x=='i'or x=='o'or x=='u':\n",
        " print(\"1st character is vowel.\")\n",
        "elif x=='A'or x=='E'or x=='I' or x=='O' or x=='U':\n",
        " print(\"1st character is vowel\")\n",
        "else :\n",
        "  print(\"First character is not vowel\")"
      ],
      "metadata": {
        "id": "v-PZ2jn8sq7W",
        "colab": {
          "base_uri": "https://localhost:8080/"
        },
        "outputId": "c8667dd1-c238-4fc1-8f24-8bb54dfb4247"
      },
      "execution_count": null,
      "outputs": [
        {
          "output_type": "stream",
          "name": "stdout",
          "text": [
            "Enter the String:Apple\n",
            "1st character is vowel\n"
          ]
        }
      ]
    },
    {
      "cell_type": "markdown",
      "source": [],
      "metadata": {
        "id": "KgwzcgjDMmG-"
      }
    },
    {
      "cell_type": "markdown",
      "source": [
        "**3.Write a Python program which accepts the radius of a circle from the user and compute the area.**"
      ],
      "metadata": {
        "id": "Wwd7uKjsMmhF"
      }
    },
    {
      "cell_type": "code",
      "source": [
        "import numpy as mth\n",
        "x=float(input(\"Enter the radius of the circle:\"))\n",
        "area=float(mth.pi*x**2)\n",
        "print(\"The area of the circle is {:.4f}\".format(area))"
      ],
      "metadata": {
        "colab": {
          "base_uri": "https://localhost:8080/"
        },
        "id": "D5HKoj3DM8fy",
        "outputId": "149620d8-2274-40fc-8c08-034fd44a0919"
      },
      "execution_count": null,
      "outputs": [
        {
          "output_type": "stream",
          "name": "stdout",
          "text": [
            "Enter the radius of the circle:5.5\n",
            "The area of the circle is 95.0332\n"
          ]
        }
      ]
    },
    {
      "cell_type": "markdown",
      "source": [
        "**4.Write a Python program to convert temperatures to and from celsius,fahrenheit .**"
      ],
      "metadata": {
        "id": "RFR40AqWRedl"
      }
    },
    {
      "cell_type": "code",
      "source": [
        "\n",
        "print(\"Option 1: Celsius to Fahrenheit.\")\n",
        "print(\"Option 2: Fahrenheit to Celsius.\")\n",
        "x=input(\" Provide the Option: \")\n",
        "if x=='1':\n",
        "  c=float(input(\"Give the Celsius temperature:\"))\n",
        "  f=float((c*9)/5 + 32 )\n",
        "  print(\"The Fahrenheit temperature is {:.4f}\".format(f))\n",
        "else :\n",
        "  f=float(input(\"Give the Fahrenheit temperature:\"))\n",
        "  c=float((f-32)*(5/9))\n",
        "  print(\"The Celsius temperature is {:.4f}\".format(c))"
      ],
      "metadata": {
        "colab": {
          "base_uri": "https://localhost:8080/"
        },
        "id": "AdycRXWgUP5X",
        "outputId": "4fd72351-7d22-4bd5-9ebb-b6ec476cf4ad"
      },
      "execution_count": null,
      "outputs": [
        {
          "output_type": "stream",
          "name": "stdout",
          "text": [
            "Option 1: Celsius to Fahrenheit.\n",
            "Option 2: Fahrenheit to Celsius.\n",
            " Provide the Option: 2\n",
            "Give the Fahrenheit temperature:100.1\n",
            "The Celsius temperature is 37.8333\n"
          ]
        }
      ]
    },
    {
      "cell_type": "markdown",
      "source": [
        "**5.Take input of age of 3 people by user and determine oldest and youngest among them.**"
      ],
      "metadata": {
        "id": "HFha32UrX7Mb"
      }
    },
    {
      "cell_type": "code",
      "source": [
        "x=input(\"Enter the first number:\")\n",
        "y=input(\"Enter the second number:\")\n",
        "z=input(\"Enter the third number:\")\n",
        "if x<=y and x<=z:\n",
        "  min=x\n",
        "elif y<=x and y<=z:\n",
        "  min=y\n",
        "else :\n",
        "  min=z\n",
        "if x>=y and x>=z:\n",
        "  max=x\n",
        "elif y>=x and y>=z:\n",
        "  max=y\n",
        "else:\n",
        "  max=z\n",
        "if min==max:\n",
        "  print(\"output=youngest:{} {} {} oldest {} {} {}\".format(x,x,x,x,x,x))\n",
        "elif x != y and y !=z and z!=x :\n",
        "  print(\"output=youngest:{} oldest:{}\".format(min,max))\n",
        "else:\n",
        "  if (min==x and min==y) or (min==x and min== z) or (min== y and min == z) :\n",
        "    print(\"output=youngest:{} {} oldest:{}\".format(min,min,max))\n",
        "  else:\n",
        "    print(\"output=youngest:{} oldest:{} {}\".format(min,max,max))\n",
        "\n"
      ],
      "metadata": {
        "colab": {
          "base_uri": "https://localhost:8080/"
        },
        "id": "9ke5CegsYJDi",
        "outputId": "6dc7ab04-e650-49fa-bf10-0880b0c2c6e3"
      },
      "execution_count": null,
      "outputs": [
        {
          "output_type": "stream",
          "name": "stdout",
          "text": [
            "Enter the first number:10\n",
            "Enter the second number:20\n",
            "Enter the third number:20\n",
            "output=youngest:10 oldest:20 20\n"
          ]
        }
      ]
    },
    {
      "cell_type": "markdown",
      "source": [
        "**6. A school has following rules for grading system:**\n",
        "\n",
        "Below 25 - F\n",
        "\n",
        "25 to 45 - E\n",
        "\n",
        "46 to 50 - D\n",
        "\n",
        "51 to 60 - C\n",
        "\n",
        "61 to 80 - B\n",
        "\n",
        "Above 80 - A.\n",
        "\n",
        "Now, ask user to enter marks and print the corresponding grade."
      ],
      "metadata": {
        "id": "7nii-9Ivcvzl"
      }
    },
    {
      "cell_type": "code",
      "source": [
        "marks=int(input(\"Enter the Marks:\"))\n",
        "if marks<25:\n",
        "  grade='F'\n",
        "elif marks>=25 and marks<=45:\n",
        "  grade='E'\n",
        "elif marks>45 and marks<=50:\n",
        "  grade='D'\n",
        "elif marks>50 and marks<=60:\n",
        "  grade='C'\n",
        "elif marks>60 and marks<=80:\n",
        "  grade='B'\n",
        "else:\n",
        "  grade='A'\n",
        "print(\"The corresponding grade is: \" + grade)"
      ],
      "metadata": {
        "colab": {
          "base_uri": "https://localhost:8080/"
        },
        "id": "LdIuxyoPdqNI",
        "outputId": "bc297050-bf57-4e8e-b19c-e89234de5741"
      },
      "execution_count": null,
      "outputs": [
        {
          "output_type": "stream",
          "name": "stdout",
          "text": [
            "Enter the Marks:89\n",
            "The corresponding grade is: A\n"
          ]
        }
      ]
    },
    {
      "cell_type": "markdown",
      "source": [
        "**7.Write a program to trace your subject mark.Your program should fulfill the following conditions:**\n",
        "\n",
        "If the subject mark is below 0 and above 100, print \"error: mark should be between 0 and 100 only\"\n",
        "\n",
        "Students will fail in the subject if their mark is below 50.\n",
        "\n",
        "Students will pass in the subject if they score 50 and above.\n",
        "\n",
        "If subject mark is between 50 and 60,grade student as good.\n",
        "\n",
        "If subject mark is between 61 and 80,grade student as very good.\n",
        "\n",
        "If subject mark is between 81 and 100, grade student as outstanding.\n",
        "\n",
        "Make sure to print their mark in every statement to prove that the condtion is fulfilled. Moreover,name,class, and section should be also displayed along with the marks and their grade.\n"
      ],
      "metadata": {
        "id": "KOVws2LyfayV"
      }
    },
    {
      "cell_type": "code",
      "source": [
        "name=input(\"Enter name:\")\n",
        "clss=input(\"Enter class:\")\n",
        "section=input(\"Enter section:\")\n",
        "subject=input(\"Enter the subject name:\")\n",
        "mark=float(input(\"Mark scored in that subject:\"))\n",
        "print(\"----Tracing your \"+subject+\" mark------\")\n",
        "print(\"Name: \"+name)\n",
        "print(\"Class: \",clss)\n",
        "print(\"Section: \",section)\n",
        "print(subject,\" mark is {:.1f}\".format(mark))\n",
        "if mark<50:\n",
        "  result=\"Sorry! Fail in \"+subject\n",
        "  print(result)\n",
        "else:\n",
        "  result=\"Congratulations! Pass in \"+subject\n",
        "  print(result)\n",
        "  if mark>=50 and mark <=60:\n",
        "    remark='Good'\n",
        "  elif mark>60 and mark <=80:\n",
        "    remark='Very good'\n",
        "  else:\n",
        "    remark='Outstanding'\n",
        "  print(\"Remark: \",remark,\" in \",subject)"
      ],
      "metadata": {
        "colab": {
          "base_uri": "https://localhost:8080/"
        },
        "id": "XqcJj9rxfss7",
        "outputId": "b30f1b26-b5bc-4c58-a6bb-4f6c542ff472"
      },
      "execution_count": null,
      "outputs": [
        {
          "output_type": "stream",
          "name": "stdout",
          "text": [
            "Enter name:Dawa\n",
            "Enter class:12\n",
            "Enter section:A\n",
            "Enter the subject name:Dzongkha\n",
            "Mark scored in that subject:93\n",
            "----Tracing your Dzongkha mark------\n",
            "Name: Dawa\n",
            "Class:  12\n",
            "Section:  A\n",
            "Dzongkha  mark is 93.0\n",
            "Congratulations! Pass in Dzongkha\n",
            "Remark:  Outstanding  in  Dzongkha\n"
          ]
        }
      ]
    },
    {
      "cell_type": "markdown",
      "source": [
        "# **LOOP**"
      ],
      "metadata": {
        "id": "7zsTncamDPDJ"
      }
    },
    {
      "cell_type": "markdown",
      "source": [
        "**1.Using a nested for loop generate the following pattern**\n"
      ],
      "metadata": {
        "id": "cJjx35LjDXLm"
      }
    },
    {
      "cell_type": "code",
      "source": [
        "#Pattern:\n",
        "#    *\n",
        "#    **\n",
        "#    ***\n",
        "#    ****\n",
        "#    *****\n",
        "#    ****\n",
        "#    ***\n",
        "#    **\n",
        "#    *\n",
        "x='*'\n",
        "for i in range(1,6,1):\n",
        "  print(x*i)\n",
        "for i in range(4,0,-1):\n",
        "  print(x*i)"
      ],
      "metadata": {
        "id": "yPbB9SrmIPr5",
        "colab": {
          "base_uri": "https://localhost:8080/"
        },
        "outputId": "1272d426-0e09-40c5-a730-7824ae356010"
      },
      "execution_count": null,
      "outputs": [
        {
          "output_type": "stream",
          "name": "stdout",
          "text": [
            "*\n",
            "**\n",
            "***\n",
            "****\n",
            "*****\n",
            "****\n",
            "***\n",
            "**\n",
            "*\n"
          ]
        }
      ]
    },
    {
      "cell_type": "markdown",
      "source": [
        "**2.Write a Python program to get the Fiboncci series between 0 to 50.**"
      ],
      "metadata": {
        "id": "xQjbj458NDb3"
      }
    },
    {
      "cell_type": "code",
      "source": [
        "fibbo=[0,1]\n",
        "x=int(input(\"Enter the Limit of the series:\"))\n",
        "if x==0:\n",
        "  print(0)\n",
        "elif x==1:\n",
        "  print(\"0 1\")\n",
        "else:\n",
        "  for i in range(2,x+1,1):\n",
        "    k=fibbo[i-1]+fibbo[i-2]\n",
        "    fibbo.append(k)\n",
        "  for i in range(len(fibbo)):\n",
        "    print(\"{} \".format(fibbo[i]),end=\"\")"
      ],
      "metadata": {
        "id": "ktqXPwo_NU_7",
        "colab": {
          "base_uri": "https://localhost:8080/"
        },
        "outputId": "6c34b0c1-b0c5-4c3c-842d-857463e1150f"
      },
      "execution_count": null,
      "outputs": [
        {
          "output_type": "stream",
          "name": "stdout",
          "text": [
            "Enter the Limit of the series:50\n",
            "0 1 1 2 3 5 8 13 21 34 55 89 144 233 377 610 987 1597 2584 4181 6765 10946 17711 28657 46368 75025 121393 196418 317811 514229 832040 1346269 2178309 3524578 5702887 9227465 14930352 24157817 39088169 63245986 102334155 165580141 267914296 433494437 701408733 1134903170 1836311903 2971215073 4807526976 7778742049 12586269025 "
          ]
        }
      ]
    },
    {
      "cell_type": "markdown",
      "source": [
        "3.**Write a Python program to check whether each alphabet of the input string is a vowel or consonant.**"
      ],
      "metadata": {
        "id": "3LGMbTOCQEr9"
      }
    },
    {
      "cell_type": "code",
      "source": [
        "string=input(\"Enter the String:\")\n",
        "for i in string:\n",
        "  if i=='a'or i=='e'or i=='i'or i=='o'or i=='u':\n",
        "    print(i,\"is vowel.\")\n",
        "  elif i=='A'or i=='E'or i=='I'or i=='O'or i=='U':\n",
        "    print(i,\" is vowel.\")\n",
        "  else:\n",
        "    print(i,\" is consonant,\")"
      ],
      "metadata": {
        "id": "30llXQzgRgwV",
        "colab": {
          "base_uri": "https://localhost:8080/"
        },
        "outputId": "163da7e5-4395-4ab4-cdfa-6ba7fb3c3e37"
      },
      "execution_count": null,
      "outputs": [
        {
          "output_type": "stream",
          "name": "stdout",
          "text": [
            "Enter the String:MubasshIr\n",
            "M  is consonant,\n",
            "u is vowel.\n",
            "b  is consonant,\n",
            "a is vowel.\n",
            "s  is consonant,\n",
            "s  is consonant,\n",
            "h  is consonant,\n",
            "I  is vowel.\n",
            "r  is consonant,\n"
          ]
        }
      ]
    },
    {
      "cell_type": "markdown",
      "source": [
        "**4.Write a Python program to create the multiplication tabe (from 1 to 10) of a number**"
      ],
      "metadata": {
        "id": "PK7Yp8WjSWPT"
      }
    },
    {
      "cell_type": "code",
      "source": [
        "x=int(input(\"Input a number:\"))\n",
        "for i in range(1,11,1):\n",
        "  k=i*x\n",
        "  print(\"{} x {} = {}\".format(x,i,k))\n"
      ],
      "metadata": {
        "id": "XTwl22VvoHG_",
        "colab": {
          "base_uri": "https://localhost:8080/"
        },
        "outputId": "666e9af6-49f8-455f-fd32-26a622ed38c8"
      },
      "execution_count": null,
      "outputs": [
        {
          "output_type": "stream",
          "name": "stdout",
          "text": [
            "Input a number:6\n",
            "6 x 1 = 6\n",
            "6 x 2 = 12\n",
            "6 x 3 = 18\n",
            "6 x 4 = 24\n",
            "6 x 5 = 30\n",
            "6 x 6 = 36\n",
            "6 x 7 = 42\n",
            "6 x 8 = 48\n",
            "6 x 9 = 54\n",
            "6 x 10 = 60\n"
          ]
        }
      ]
    },
    {
      "cell_type": "markdown",
      "source": [],
      "metadata": {
        "id": "CQIcXq0trs-Q"
      }
    },
    {
      "cell_type": "markdown",
      "source": [
        "**5.Write a Python program to construct the following pattern, using a nested loop number.**\n",
        "\n",
        "1\n",
        "\n",
        "22\n",
        "\n",
        "333\n",
        "\n",
        "4444\n",
        "\n",
        "55555\n",
        "\n",
        "666666\n",
        "\n",
        "7777777\n",
        "\n",
        "88888888\n",
        "\n",
        "999999999\n",
        "\n",
        "88888888\n",
        "\n",
        "7777777\n",
        "\n",
        "666666\n",
        "\n",
        "55555\n",
        "\n",
        "4444\n",
        "\n",
        "333\n",
        "\n",
        "22\n",
        "\n",
        "1"
      ],
      "metadata": {
        "id": "BxYQ1yw1qbTV"
      }
    },
    {
      "cell_type": "code",
      "source": [
        "for i in range(1,10,1):\n",
        "  print(str(i)*int(i))\n",
        "for i in range(8,0,-1):\n",
        "  print(str(i)*int(i))"
      ],
      "metadata": {
        "colab": {
          "base_uri": "https://localhost:8080/"
        },
        "id": "WC-Mj8FVrH7f",
        "outputId": "02636161-0b9a-4d3c-f490-87e6e0e62b8c"
      },
      "execution_count": null,
      "outputs": [
        {
          "output_type": "stream",
          "name": "stdout",
          "text": [
            "1\n",
            "22\n",
            "333\n",
            "4444\n",
            "55555\n",
            "666666\n",
            "7777777\n",
            "88888888\n",
            "999999999\n",
            "88888888\n",
            "7777777\n",
            "666666\n",
            "55555\n",
            "4444\n",
            "333\n",
            "22\n",
            "1\n"
          ]
        }
      ]
    },
    {
      "cell_type": "markdown",
      "source": [
        "**6.Display numbers from -10 to -1 using for loop**"
      ],
      "metadata": {
        "id": "JJ89A6nOuE4L"
      }
    },
    {
      "cell_type": "code",
      "source": [
        "for i in range(-10,0,1):\n",
        "  print(i,\" \",end=\"\")"
      ],
      "metadata": {
        "colab": {
          "base_uri": "https://localhost:8080/"
        },
        "id": "0sHxS4x5uNsX",
        "outputId": "1f3fe128-0130-4b0f-e51e-2a3df732958f"
      },
      "execution_count": null,
      "outputs": [
        {
          "output_type": "stream",
          "name": "stdout",
          "text": [
            "-10  -9  -8  -7  -6  -5  -4  -3  -2  -1  "
          ]
        }
      ]
    },
    {
      "cell_type": "markdown",
      "source": [
        "**7.Reverse a given integer number and find square root.**"
      ],
      "metadata": {
        "id": "mGBMcUV8vEix"
      }
    },
    {
      "cell_type": "code",
      "source": [
        "import numpy as nm\n",
        "x=input(\"Enter the Number:\")\n",
        "x=x[::-1]\n",
        "y=0\n",
        "for i in x:\n",
        "  y*=10\n",
        "  y+=int(i)\n",
        "print(\"The reverse integer is \",y)\n",
        "x=nm.sqrt(float(x))\n",
        "print(\"The square root of the number is {:.2f}\".format(x))"
      ],
      "metadata": {
        "colab": {
          "base_uri": "https://localhost:8080/"
        },
        "id": "SxQZIO-0vWkj",
        "outputId": "9c78d942-5f65-4a32-9d76-0b93ba207b26"
      },
      "execution_count": null,
      "outputs": [
        {
          "output_type": "stream",
          "name": "stdout",
          "text": [
            "Enter the Number:94\n",
            "The reverse integer is  49\n",
            "The square root of the number is 7.00\n"
          ]
        }
      ]
    },
    {
      "cell_type": "markdown",
      "source": [
        "# **List**"
      ],
      "metadata": {
        "id": "NXNG_WZNz2Dc"
      }
    },
    {
      "cell_type": "markdown",
      "source": [
        "**1.Reverse and concate two list.**"
      ],
      "metadata": {
        "id": "hPakUsLGz74p"
      }
    },
    {
      "cell_type": "code",
      "source": [
        "a=[4,3,2,1,0]\n",
        "b=[9,8,7,6,5]\n",
        "c=a[::-1]+b[::-1]#reverse and concate\n",
        "print(c)\n"
      ],
      "metadata": {
        "colab": {
          "base_uri": "https://localhost:8080/"
        },
        "id": "k1IFVryN0PhS",
        "outputId": "7abcc195-ff16-467e-fc42-439d186d2f10"
      },
      "execution_count": null,
      "outputs": [
        {
          "output_type": "stream",
          "name": "stdout",
          "text": [
            "[0, 1, 2, 3, 4, 5, 6, 7, 8, 9]\n"
          ]
        }
      ]
    },
    {
      "cell_type": "markdown",
      "source": [
        "**2.Remove duplicate items from the list**"
      ],
      "metadata": {
        "id": "1XfHGjDPYaJ9"
      }
    },
    {
      "cell_type": "code",
      "source": [
        "n=int(input(\"Enter the limit of the list: \"))\n",
        "print(\"Enter the inputs:\")\n",
        "lst=[]\n",
        "for i in range(0,n,1):\n",
        "  x=input()\n",
        "  lst.append(x)\n",
        "# lst=list(set(lst))\n",
        "lst=list(dict.fromkeys(lst))\n",
        "print(lst)\n"
      ],
      "metadata": {
        "colab": {
          "base_uri": "https://localhost:8080/"
        },
        "id": "qJ04byH654BC",
        "outputId": "0b1ae30d-fec6-4a38-fb6e-042dd2806523"
      },
      "execution_count": 38,
      "outputs": [
        {
          "output_type": "stream",
          "name": "stdout",
          "text": [
            "Enter the limit of the list: 5\n",
            "Enter the inputs:\n",
            "Mubasshir\n",
            "Naib\n",
            "89\n",
            "Mubasshir\n",
            "Naib\n",
            "['Mubasshir', 'Naib', '89']\n"
          ]
        }
      ]
    },
    {
      "cell_type": "markdown",
      "source": [
        "**3.write a function to swap elements of two positions in a list**"
      ],
      "metadata": {
        "id": "ENXLaJj8aMeG"
      }
    },
    {
      "cell_type": "code",
      "source": [
        "lst=[2,1,3,4,5]\n",
        "x=int(input(\"Enter the 1st positon: \"))\n",
        "y=int(input(\"Enter the 2nd postion: \"))\n",
        "t=lst[x-1]\n",
        "lst[x-1]=lst[y-1]\n",
        "lst[y-1]=t\n",
        "print(lst)"
      ],
      "metadata": {
        "colab": {
          "base_uri": "https://localhost:8080/"
        },
        "id": "pfIGPBo1adYu",
        "outputId": "8f3a36b2-b8b6-4cdc-9552-b2fac38f4cfb"
      },
      "execution_count": 28,
      "outputs": [
        {
          "output_type": "stream",
          "name": "stdout",
          "text": [
            "Enter the 1st positon: 1\n",
            "Enter the 2nd postion: 2\n",
            "[1, 2, 3, 4, 5]\n"
          ]
        }
      ]
    },
    {
      "cell_type": "markdown",
      "source": [
        "**4.Write a function to find sum and average of a list.**"
      ],
      "metadata": {
        "id": "IHQwk41VeNDJ"
      }
    },
    {
      "cell_type": "code",
      "source": [
        "import numpy as Naib\n",
        "lst=[1,2,3,4,5]\n",
        "# sum=0\n",
        "# for i in lst:\n",
        "#   sum+=i\n",
        "k=Naib.sum(lst)\n",
        "print(\"The sum of the list is {}\".format(k))\n",
        "avg=Naib.mean(lst)\n",
        "print(\"The average of the list is {:.2f}\".format(avg))"
      ],
      "metadata": {
        "colab": {
          "base_uri": "https://localhost:8080/"
        },
        "id": "rYUfawHMeh5C",
        "outputId": "19e4a75d-d537-40ea-9213-61c821752ed3"
      },
      "execution_count": 29,
      "outputs": [
        {
          "output_type": "stream",
          "name": "stdout",
          "text": [
            "The sum of the list is 15\n",
            "The average of the list is 3.00\n"
          ]
        }
      ]
    },
    {
      "cell_type": "markdown",
      "source": [
        "**5. Write a Python function that takes two lists and returns True if they\n",
        "have at least one common member.**"
      ],
      "metadata": {
        "id": "smO9p1exf9gP"
      }
    },
    {
      "cell_type": "code",
      "source": [
        "def func(a,b):\n",
        "  x=set(a)\n",
        "  y=set(b)\n",
        "  if x&y:\n",
        "    return True\n",
        "  else:\n",
        "    return False\n",
        "\n",
        "a=[1,2,3,5]\n",
        "b=[4,5,6,7,8]\n",
        "print(func(a,b))"
      ],
      "metadata": {
        "id": "BhPngdPFjjyp",
        "colab": {
          "base_uri": "https://localhost:8080/"
        },
        "outputId": "650ac0b7-f2b6-48ef-dd24-06b08f32eda3"
      },
      "execution_count": 30,
      "outputs": [
        {
          "output_type": "stream",
          "name": "stdout",
          "text": [
            "True\n"
          ]
        }
      ]
    },
    {
      "cell_type": "markdown",
      "source": [
        "**6. Write a python program to check whether two lists are circularly\n",
        "identical.**"
      ],
      "metadata": {
        "id": "TmSS4bxEjl-K"
      }
    },
    {
      "cell_type": "code",
      "source": [
        "list1=[1,1,0,0,1,1]\n",
        "list2=[1,1,1,1,0,0]\n",
        "test=list1*2\n",
        "ans=0\n",
        "for i in range(len(list1)):\n",
        "  k=i\n",
        "  p=0\n",
        "  for j in range(len(list2)):\n",
        "    if test[k] == list2[j]:\n",
        "      p+=1\n",
        "      k+=1\n",
        "    else:\n",
        "      break\n",
        "  if p==len(list2):\n",
        "    ans+=1\n",
        "    break\n",
        "if ans:\n",
        "  print(\"Two lists are circularly identical.\")\n",
        "else:\n",
        "  print(\"Two lists aren't circularly identical.\")"
      ],
      "metadata": {
        "id": "uRBGN-epjwRk",
        "colab": {
          "base_uri": "https://localhost:8080/"
        },
        "outputId": "3fd9ca82-6fc6-4282-8d98-c66f1f0190a5"
      },
      "execution_count": 31,
      "outputs": [
        {
          "output_type": "stream",
          "name": "stdout",
          "text": [
            "Two lists are circularly identical.\n"
          ]
        }
      ]
    },
    {
      "cell_type": "markdown",
      "source": [
        "**7. Write a Python program to find the second smallest and largest number\n",
        "in a list .**"
      ],
      "metadata": {
        "id": "qhNzilcojxkI"
      }
    },
    {
      "cell_type": "code",
      "source": [
        "list1=[1,1,1,6,7,5,4,4,7]\n",
        "list1.sort()\n",
        "smallest2=list1[len(list1)-1]\n",
        "largest=list1[len(list1)-1]\n",
        "for i in range(1,len(list1),1):\n",
        "  if list1[i-1] != list1[i]:\n",
        "    smallest2=list1[i]\n",
        "    break\n",
        "print(\"The second smallest number is: \",smallest2)\n",
        "print(\"The largest number is: \",largest)\n"
      ],
      "metadata": {
        "id": "bl36DXo8j1P_",
        "colab": {
          "base_uri": "https://localhost:8080/"
        },
        "outputId": "d6a2d782-241c-4738-9263-163e9977b5de"
      },
      "execution_count": 32,
      "outputs": [
        {
          "output_type": "stream",
          "name": "stdout",
          "text": [
            "The second smallest number is:  4\n",
            "The largest number is:  7\n"
          ]
        }
      ]
    },
    {
      "cell_type": "markdown",
      "source": [
        "**8. Write a Python program to compute the difference between two lists.**"
      ],
      "metadata": {
        "id": "lCs1ZltVkDpg"
      }
    },
    {
      "cell_type": "code",
      "source": [
        "import numpy as Naib\n",
        "l1,l2=['red','orange','green','blue','white'],['black','yellow','green','blue']\n",
        "\n",
        "#d1=Naib.setdiff1d(l1,l2)\n",
        "#d2=Naib.setdiff1d(l2,l1)\n",
        "d1=[]\n",
        "d2=[]\n",
        "for i in range(len(l1)-1,-1,-1):\n",
        "  k=1\n",
        "  for j in l2:\n",
        "    if l1[i]== j:\n",
        "      k=0\n",
        "      break\n",
        "  if k:\n",
        "    d1.append(l1[i])\n",
        "for i in l2:\n",
        "  k=1\n",
        "  for j in l1:\n",
        "    if i == j:\n",
        "      k=0\n",
        "      break\n",
        "  if k:\n",
        "    d2.append(i)\n",
        "\n",
        "print(\"Color1-Color2: \",d1)\n",
        "print(\"Color2-Color1: \",d2)"
      ],
      "metadata": {
        "id": "r4I7a5OMkHuK",
        "colab": {
          "base_uri": "https://localhost:8080/"
        },
        "outputId": "f2e7589a-351c-4250-c11b-5cf054e9066f"
      },
      "execution_count": 33,
      "outputs": [
        {
          "output_type": "stream",
          "name": "stdout",
          "text": [
            "Color1-Color2:  ['white', 'orange', 'red']\n",
            "Color2-Color1:  ['black', 'yellow']\n"
          ]
        }
      ]
    },
    {
      "cell_type": "markdown",
      "source": [
        "****"
      ],
      "metadata": {
        "id": "f7PBOsGA0LGX"
      }
    }
  ]
}