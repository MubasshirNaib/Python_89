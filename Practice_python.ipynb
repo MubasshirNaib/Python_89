{
  "nbformat": 4,
  "nbformat_minor": 0,
  "metadata": {
    "colab": {
      "provenance": [],
      "authorship_tag": "ABX9TyMqZV0pRwSJpA4dORRM4AiC",
      "include_colab_link": true
    },
    "kernelspec": {
      "name": "python3",
      "display_name": "Python 3"
    },
    "language_info": {
      "name": "python"
    }
  },
  "cells": [
    {
      "cell_type": "markdown",
      "metadata": {
        "id": "view-in-github",
        "colab_type": "text"
      },
      "source": [
        "<a href=\"https://colab.research.google.com/github/MubasshirNaib/Python_89/blob/main/Practice_python.ipynb\" target=\"_parent\"><img src=\"https://colab.research.google.com/assets/colab-badge.svg\" alt=\"Open In Colab\"/></a>"
      ]
    },
    {
      "cell_type": "code",
      "execution_count": 1,
      "metadata": {
        "id": "AWjpN-nA_QSk",
        "colab": {
          "base_uri": "https://localhost:8080/"
        },
        "outputId": "35adf7fc-a4e2-47a0-f568-d7aa0720e28f"
      },
      "outputs": [
        {
          "output_type": "stream",
          "name": "stdout",
          "text": [
            "True\n",
            "False\n"
          ]
        }
      ],
      "source": [
        "from collections import deque\n",
        "\n",
        "def are_circularly_identical(list1, list2):\n",
        "    d = deque(list1)\n",
        "    for _ in range(len(list1)):\n",
        "        if all(a == b for a, b in zip(d, list2)):\n",
        "            return True\n",
        "        d.rotate(1)\n",
        "    return False\n",
        "\n",
        "list1 = [10, 10, 0, 0, 10]\n",
        "list2 = [10, 10, 10, 0, 0]\n",
        "list3 = [10, 10, 0, 10, 0]\n",
        "\n",
        "print(are_circularly_identical(list1, list2))  # True\n",
        "print(are_circularly_identical(list2, list3))  # False"
      ]
    },
    {
      "cell_type": "code",
      "source": [
        "lis=[\"adnkf\",3,'Naib',98]\n",
        "k='Naib'\n",
        "lis.remove(k)\n",
        "print(lis)\n"
      ],
      "metadata": {
        "colab": {
          "base_uri": "https://localhost:8080/"
        },
        "id": "_zbSmRpl045J",
        "outputId": "aba8ec45-3a81-4bbc-ef82-a6ebbced6222"
      },
      "execution_count": 3,
      "outputs": [
        {
          "output_type": "stream",
          "name": "stdout",
          "text": [
            "['adnkf', 3, 98]\n"
          ]
        }
      ]
    },
    {
      "cell_type": "markdown",
      "source": [
        "**This is Bold**              \n",
        "*hi*    \n",
        "~Naib~\n",
        "$\\sqrt{3x-1} + (1+x)^2 $"
      ],
      "metadata": {
        "id": "0PDImlOf_4AC"
      }
    },
    {
      "cell_type": "code",
      "source": [
        "# x=float(input(\"Enter the first Number: \"))\n",
        "# y=float(input(\"Enter the second Number: \"))\n",
        "# z=float(input(\"Enter the third Number: \"))\n",
        "# if x<=y and x<=z:\n",
        "#   print(\"{} is smaller\".format(x))\n",
        "# elif y<=x and y<=z:\n",
        "#   print(\"{} is smaller\".format(y))\n",
        "# else:\n",
        "#   print(\"{} is smaller\".format(z))\n",
        "kk=[4.2,3,2,4.4]\n",
        "kk.sort()\n",
        "print(kk)"
      ],
      "metadata": {
        "colab": {
          "base_uri": "https://localhost:8080/"
        },
        "id": "NHllRcHeCLqi",
        "outputId": "46801562-c4ee-4e9d-a16c-c1757c38c2d6"
      },
      "execution_count": null,
      "outputs": [
        {
          "output_type": "stream",
          "name": "stdout",
          "text": [
            "[2, 3, 4.2, 4.4]\n"
          ]
        }
      ]
    }
  ]
}